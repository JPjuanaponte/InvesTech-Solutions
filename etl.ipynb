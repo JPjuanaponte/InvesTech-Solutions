{
 "cells": [
  {
   "cell_type": "code",
   "execution_count": 23,
   "metadata": {},
   "outputs": [],
   "source": [
    "import pandas as pd\n",
    "import numpy as np\n",
    "import matplotlib.pyplot as plt\n",
    "import seaborn as sns\n",
    "import os"
   ]
  },
  {
   "cell_type": "code",
   "execution_count": 24,
   "metadata": {},
   "outputs": [
    {
     "data": {
      "text/plain": [
       "\"\\nportabilidad= pd.read_excel('Portabilidad.xlsx')\\ntelefonia_fija= pd.read_excel('telefonia_fija.xlsx')\\ntelefono_movil= pd.read_excel('Telefonia_movil.xlsx')\\ntelevision= pd.read_excel('Television.xlsx')\\n\""
      ]
     },
     "execution_count": 24,
     "metadata": {},
     "output_type": "execute_result"
    }
   ],
   "source": [
    "internet= pd.read_excel('data/Internet.xlsx')\n",
    "conectividad= pd.read_excel('data/mapa_conectividad.xlsx')\n",
    "\"\"\"\n",
    "portabilidad= pd.read_excel('Portabilidad.xlsx')\n",
    "telefonia_fija= pd.read_excel('telefonia_fija.xlsx')\n",
    "telefono_movil= pd.read_excel('Telefonia_movil.xlsx')\n",
    "television= pd.read_excel('Television.xlsx')\n",
    "\"\"\""
   ]
  },
  {
   "cell_type": "code",
   "execution_count": 25,
   "metadata": {},
   "outputs": [
    {
     "name": "stdout",
     "output_type": "stream",
     "text": [
      "Hoja Acc_vel_loc_sinrangos guardada en data\\Acc_vel_loc_sinrangos.csv\n",
      "Hoja Velocidad_sin_Rangos guardada en data\\Velocidad_sin_Rangos.csv\n",
      "Hoja Accesos_tecnologia_localidad guardada en data\\Accesos_tecnologia_localidad.csv\n",
      "Hoja Velocidad % por prov guardada en data\\Velocidad % por prov.csv\n",
      "Hoja Totales VMD guardada en data\\Totales VMD.csv\n",
      "Hoja Totales Accesos Por Tecnología guardada en data\\Totales Accesos Por Tecnología.csv\n",
      "Hoja Accesos Por Tecnología guardada en data\\Accesos Por Tecnología.csv\n",
      "Hoja Penetración-poblacion guardada en data\\Penetración-poblacion.csv\n",
      "Hoja Penetracion-hogares guardada en data\\Penetracion-hogares.csv\n",
      "Hoja Penetracion-totales guardada en data\\Penetracion-totales.csv\n",
      "Hoja Totales Accesos por velocidad guardada en data\\Totales Accesos por velocidad.csv\n",
      "Hoja Accesos por velocidad guardada en data\\Accesos por velocidad.csv\n",
      "Hoja Dial-BAf guardada en data\\Dial-BAf.csv\n",
      "Hoja Totales Dial-BAf guardada en data\\Totales Dial-BAf.csv\n",
      "Hoja Ingresos  guardada en data\\Ingresos .csv\n"
     ]
    }
   ],
   "source": [
    "# Definir las hojas a separar del archivo internet.xlsx\n",
    "sheets_to_split = [\n",
    "    'Acc_vel_loc_sinrangos', 'Velocidad_sin_Rangos', 'Accesos_tecnologia_localidad', \n",
    "    'Velocidad % por prov', 'Totales VMD', 'Totales Accesos Por Tecnología', \n",
    "    'Accesos Por Tecnología', 'Penetración-poblacion', 'Penetracion-hogares', \n",
    "    'Penetracion-totales', 'Totales Accesos por velocidad', 'Accesos por velocidad', \n",
    "    'Dial-BAf', 'Totales Dial-BAf', 'Ingresos '\n",
    "]\n",
    "\n",
    "# Cargar y guardar cada hoja como un archivo CSV separado\n",
    "file_name = 'data/internet.xlsx'\n",
    "output_folder = 'data'\n",
    "\n",
    "# Crear la carpeta si no existe\n",
    "os.makedirs(output_folder, exist_ok=True)\n",
    "for sheet in sheets_to_split:\n",
    "    df = pd.read_excel(file_name, sheet_name=sheet)\n",
    "    output_file = os.path.join(output_folder, f'{sheet}.csv')\n",
    "    df.to_csv(output_file, index=False)\n",
    "    print(f'Hoja {sheet} guardada en {output_file}')\n"
   ]
  },
  {
   "cell_type": "markdown",
   "metadata": {},
   "source": [
    "# Remplazo valores faltantes y nulos por 0\n",
    "Conservación de datos: Reemplazar valores nulos con 0 asegura que no se pierda información valiosa durante el análisis. \n",
    "Estabilidad en cálculos: La presencia de valores nulos puede afectar cálculos como promedios, sumas o cualquier otro tipo de agregación estadística. Al reemplazar los nulos con 0, se asegura que los cálculos sean consistentes y reflejen mejor la realidad de la situación."
   ]
  },
  {
   "cell_type": "code",
   "execution_count": 26,
   "metadata": {},
   "outputs": [
    {
     "name": "stdout",
     "output_type": "stream",
     "text": [
      "Archivo: Acc_vel_loc_sinrangos.csv\n",
      "Duplicados eliminados: 0\n",
      "Valores nulos reemplazados: 351902\n",
      "----------------------------------------\n",
      "Archivo: Velocidad_sin_Rangos.csv\n",
      "Duplicados eliminados: 0\n",
      "Valores nulos reemplazados: 192\n",
      "----------------------------------------\n",
      "Archivo: Accesos_tecnologia_localidad.csv\n",
      "Duplicados eliminados: 279\n",
      "Valores nulos reemplazados: 4\n",
      "----------------------------------------\n",
      "Archivo: Velocidad % por prov.csv\n",
      "Duplicados eliminados: 0\n",
      "Valores nulos reemplazados: 0\n",
      "----------------------------------------\n",
      "Archivo: Totales VMD.csv\n",
      "Duplicados eliminados: 0\n",
      "Valores nulos reemplazados: 0\n",
      "----------------------------------------\n",
      "Archivo: Totales Accesos Por Tecnología.csv\n",
      "Duplicados eliminados: 0\n",
      "Valores nulos reemplazados: 0\n",
      "----------------------------------------\n",
      "Archivo: Accesos Por Tecnología.csv\n",
      "Duplicados eliminados: 0\n",
      "Valores nulos reemplazados: 16\n",
      "----------------------------------------\n",
      "Archivo: Penetración-poblacion.csv\n",
      "Duplicados eliminados: 0\n",
      "Valores nulos reemplazados: 0\n",
      "----------------------------------------\n",
      "Archivo: Penetracion-hogares.csv\n",
      "Duplicados eliminados: 0\n",
      "Valores nulos reemplazados: 0\n",
      "----------------------------------------\n",
      "Archivo: Penetracion-totales.csv\n",
      "Duplicados eliminados: 0\n",
      "Valores nulos reemplazados: 0\n",
      "----------------------------------------\n",
      "Archivo: Totales Accesos por velocidad.csv\n",
      "Duplicados eliminados: 0\n",
      "Valores nulos reemplazados: 0\n",
      "----------------------------------------\n",
      "Archivo: Accesos por velocidad.csv\n",
      "Duplicados eliminados: 0\n",
      "Valores nulos reemplazados: 6\n",
      "----------------------------------------\n",
      "Archivo: Dial-BAf.csv\n",
      "Duplicados eliminados: 0\n",
      "Valores nulos reemplazados: 2\n",
      "----------------------------------------\n",
      "Archivo: Totales Dial-BAf.csv\n",
      "Duplicados eliminados: 0\n",
      "Valores nulos reemplazados: 0\n",
      "----------------------------------------\n",
      "Archivo: Ingresos .csv\n",
      "Duplicados eliminados: 0\n",
      "Valores nulos reemplazados: 0\n",
      "----------------------------------------\n"
     ]
    }
   ],
   "source": [
    "# Definir la carpeta de entrada y salida\n",
    "input_folder = 'data'\n",
    "\n",
    "\n",
    "# Lista de archivos CSV a procesar\n",
    "archivos_a_procesar = [\n",
    "    'Acc_vel_loc_sinrangos.csv', 'Velocidad_sin_Rangos.csv', 'Accesos_tecnologia_localidad.csv', \n",
    "    'Velocidad % por prov.csv', 'Totales VMD.csv', 'Totales Accesos Por Tecnología.csv', \n",
    "    'Accesos Por Tecnología.csv', 'Penetración-poblacion.csv', 'Penetracion-hogares.csv', \n",
    "    'Penetracion-totales.csv', 'Totales Accesos por velocidad.csv', 'Accesos por velocidad.csv', \n",
    "    'Dial-BAf.csv', 'Totales Dial-BAf.csv', 'Ingresos .csv', \n",
    "]\n",
    "\n",
    "\n",
    "# Procesar cada archivo\n",
    "for file in archivos_a_procesar:\n",
    "    file_path = os.path.join(input_folder, file)\n",
    "    \n",
    "    # Cargar el archivo CSV\n",
    "    df = pd.read_csv(file_path)\n",
    "    \n",
    "    # Contar duplicados antes de eliminar\n",
    "    initial_duplicates = df.duplicated().sum()\n",
    "    \n",
    "    # Eliminar duplicados\n",
    "    df.drop_duplicates(inplace=True)\n",
    "    \n",
    "    # Contar valores nulos antes de reemplazar\n",
    "    initial_nulls = df.isnull().sum().sum()\n",
    "    \n",
    "    # Reemplazar valores nulos por 0\n",
    "    df.fillna(0, inplace=True)\n",
    "    \n",
    "    # Guardar el archivo CSV procesado\n",
    "    df.to_csv(file_path, index=False)\n",
    "    \n",
    "    # Reporte de resultados\n",
    "    print(f\"Archivo: {file}\")\n",
    "    print(f\"Duplicados eliminados: {initial_duplicates}\")\n",
    "    print(f\"Valores nulos reemplazados: {initial_nulls}\")\n",
    "    print(\"-\" * 40)"
   ]
  },
  {
   "cell_type": "markdown",
   "metadata": {},
   "source": [
    "Explicación del código:\n",
    "Cargar el archivo CSV: Cada archivo se carga usando pd.read_csv().\n",
    "Contar duplicados y valores nulos: Se cuentan los duplicados antes de eliminarlos y los valores nulos antes de reemplazarlos.\n",
    "Eliminar duplicados: Se eliminan los registros duplicados usando drop_duplicates().\n",
    "Reemplazar valores nulos: Se reemplazan los valores nulos por 0 con fillna(0, inplace=True).\n",
    "Guardar el archivo procesado: Después de los cambios, el archivo CSV se guarda nuevamente.\n",
    "Imprimir un reporte: Se imprime un reporte indicando cuántos duplicados fueron eliminados y cuántos valores nulos fueron reemplazados.\n",
    "Resultados:\n",
    "Al ejecutar este código, obtendrás un informe para cada archivo que mostrará cuántos duplicados se eliminaron y cuántos valores nulos se reemplazaron. Esto te permitirá tener un control claro del proceso de limpieza de datos."
   ]
  }
 ],
 "metadata": {
  "kernelspec": {
   "display_name": "Python 3",
   "language": "python",
   "name": "python3"
  },
  "language_info": {
   "codemirror_mode": {
    "name": "ipython",
    "version": 3
   },
   "file_extension": ".py",
   "mimetype": "text/x-python",
   "name": "python",
   "nbconvert_exporter": "python",
   "pygments_lexer": "ipython3",
   "version": "3.11.3"
  }
 },
 "nbformat": 4,
 "nbformat_minor": 2
}
